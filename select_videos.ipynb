{
 "cells": [
  {
   "cell_type": "code",
   "execution_count": 1,
   "metadata": {},
   "outputs": [],
   "source": [
    "import googleapiclient.discovery\n",
    "from googleapiclient.errors import HttpError\n",
    "from utils.util import str_clear, check_path\n",
    "import json\n",
    "import os\n",
    "\n",
    "my_api_key = 'YOUR KEY'\n",
    "api_service_name = 'youtube'\n",
    "api_version = 'v3'\n",
    "\n",
    "youtube = googleapiclient.discovery.build(\n",
    "    api_service_name, api_version, developerKey=my_api_key)"
   ]
  },
  {
   "cell_type": "code",
   "execution_count": 12,
   "metadata": {},
   "outputs": [],
   "source": [
    "def collect_video_data(word, year):\n",
    "\n",
    "    \"\"\"\n",
    "    This function collects data from YouTube videos\n",
    "\n",
    "    :param word: words used to search for videos on Youtube\n",
    "    :param year: year\n",
    "    :return: Returns data from searched YouTube videos\n",
    "    \"\"\"\n",
    "\n",
    "    results = youtube.search().list(\n",
    "        part='snippet',\n",
    "        q=word,\n",
    "        type='video',\n",
    "        publishedAfter=year+'-01-01T00:00:00Z',\n",
    "        publishedBefore=year+'-12-31T00:00:00Z',\n",
    "        order='viewCount',\n",
    "        maxResults=50\n",
    "                               ).execute()\n",
    "\n",
    "    print('50 videos returned')\n",
    "    \n",
    "    return results\n",
    "\n",
    "\n",
    "def format_information(videos, year, name):\n",
    "\n",
    "    \"\"\"\n",
    "    This function formats the information of the collected videos and writes them to a JSON file\n",
    "\n",
    "    :param videos: Youtube video data\n",
    "    :param name: name of the JSON file\n",
    "    :return: JSON file\n",
    "    \"\"\"\n",
    "    \n",
    "    videos_data = []\n",
    "    \n",
    "    for video in videos['items']:\n",
    "        \n",
    "        data = video['snippet']\n",
    "        \n",
    "        videos_data.append({\n",
    "            'id': str_clear(video['id']['videoId']),\n",
    "            'channel': str_clear(data['channelTitle']),\n",
    "            'date': str_clear(data['publishedAt']),\n",
    "            'title': str_clear(data['title']),\n",
    "            'description': str_clear(data['description'])\n",
    "        })\n",
    "        \n",
    "    parent_dir = os.getcwd() + '/database/videos/'\n",
    "    path = os.path.join(parent_dir, year)\n",
    "\n",
    "    check_path(path)\n",
    "                \n",
    "    with open(f'database/videos/{year}/{name}.json', 'w', encoding=\"utf8\") as file:\n",
    "        json.dump(videos_data, file, ensure_ascii=False)\n",
    "    \n",
    "    print('Information was stored in json file')"
   ]
  },
  {
   "cell_type": "code",
   "execution_count": 13,
   "metadata": {},
   "outputs": [
    {
     "name": "stdout",
     "output_type": "stream",
     "text": [
      "50 videos returned\n",
      "Information was stored in json file\n",
      "50 videos returned\n",
      "Information was stored in json file\n",
      "50 videos returned\n",
      "Information was stored in json file\n",
      "50 videos returned\n",
      "Information was stored in json file\n"
     ]
    }
   ],
   "source": [
    "words = ['anime amv', 'cs go fragmovie']\n",
    "\n",
    "years = ['2019', '2020']\n",
    "\n",
    "for year in years:\n",
    "    for word in words:\n",
    "        \n",
    "        try:\n",
    "            \n",
    "            videos = collect_video_data(word, year)\n",
    "            format_information(videos, year, word)\n",
    "            \n",
    "        except HttpError as error:\n",
    "            \n",
    "            if error.resp.status == 403:\n",
    "                print(\"Your quota has been exceeded\")\n",
    "                break"
   ]
  },
  {
   "cell_type": "code",
   "execution_count": null,
   "metadata": {},
   "outputs": [],
   "source": []
  }
 ],
 "metadata": {
  "kernelspec": {
   "display_name": "Python 3",
   "language": "python",
   "name": "python3"
  },
  "language_info": {
   "codemirror_mode": {
    "name": "ipython",
    "version": 3
   },
   "file_extension": ".py",
   "mimetype": "text/x-python",
   "name": "python",
   "nbconvert_exporter": "python",
   "pygments_lexer": "ipython3",
   "version": "3.8.3"
  }
 },
 "nbformat": 4,
 "nbformat_minor": 4
}
